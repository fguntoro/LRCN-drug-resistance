{
 "cells": [
  {
   "cell_type": "code",
   "execution_count": 2,
   "id": "d2873b65",
   "metadata": {},
   "outputs": [],
   "source": [
    "import pandas as pd\n",
    "import numpy as np"
   ]
  },
  {
   "cell_type": "code",
   "execution_count": 1,
   "id": "d153e107",
   "metadata": {},
   "outputs": [
    {
     "ename": "ModuleNotFoundError",
     "evalue": "No module named 'scipy'",
     "output_type": "error",
     "traceback": [
      "\u001b[1;31m---------------------------------------------------------------------------\u001b[0m",
      "\u001b[1;31mModuleNotFoundError\u001b[0m                       Traceback (most recent call last)",
      "\u001b[1;32m<ipython-input-1-6e03fda73398>\u001b[0m in \u001b[0;36m<module>\u001b[1;34m\u001b[0m\n\u001b[1;32m----> 1\u001b[1;33m \u001b[1;32mfrom\u001b[0m \u001b[0mloading_data\u001b[0m \u001b[1;32mimport\u001b[0m \u001b[0mdata_preprocess\u001b[0m\u001b[1;33m\u001b[0m\u001b[1;33m\u001b[0m\u001b[0m\n\u001b[0m\u001b[0;32m      2\u001b[0m \u001b[1;32mfrom\u001b[0m \u001b[0mmodels\u001b[0m \u001b[1;32mimport\u001b[0m \u001b[0mmodel_gene_based\u001b[0m\u001b[1;33m,\u001b[0m \u001b[0mwide_n_deep\u001b[0m\u001b[1;33m,\u001b[0m \u001b[0mML_methods\u001b[0m\u001b[1;33m,\u001b[0m \u001b[0mdeepAMR_run\u001b[0m\u001b[1;33m\u001b[0m\u001b[1;33m\u001b[0m\u001b[0m\n\u001b[0;32m      3\u001b[0m \u001b[1;32mfrom\u001b[0m \u001b[0mfeature_importance\u001b[0m \u001b[1;32mimport\u001b[0m \u001b[0mbase_approach\u001b[0m\u001b[1;33m,\u001b[0m \u001b[0mlime\u001b[0m\u001b[1;33m\u001b[0m\u001b[1;33m\u001b[0m\u001b[0m\n\u001b[0;32m      4\u001b[0m \u001b[1;32mfrom\u001b[0m \u001b[0mdata_analyzer\u001b[0m \u001b[1;32mimport\u001b[0m \u001b[0msource_analysis\u001b[0m\u001b[1;33m\u001b[0m\u001b[1;33m\u001b[0m\u001b[0m\n\u001b[0;32m      5\u001b[0m \u001b[1;32mfrom\u001b[0m \u001b[0mdataset_creator\u001b[0m \u001b[1;32mimport\u001b[0m \u001b[0mgene_dataset_creator\u001b[0m\u001b[1;33m\u001b[0m\u001b[1;33m\u001b[0m\u001b[0m\n",
      "\u001b[1;32m~\\Documents\\MRes Biomedical Research\\Project 2\\Investigation\\LRCN drug prediction\\LRCN-drug-resistance\\loading_data\\data_preprocess.py\u001b[0m in \u001b[0;36m<module>\u001b[1;34m\u001b[0m\n\u001b[0;32m      1\u001b[0m \u001b[1;32mfrom\u001b[0m \u001b[0mloading_data\u001b[0m \u001b[1;32mimport\u001b[0m \u001b[0mload_data\u001b[0m\u001b[1;33m\u001b[0m\u001b[1;33m\u001b[0m\u001b[0m\n\u001b[0;32m      2\u001b[0m \u001b[1;32mimport\u001b[0m \u001b[0mpandas\u001b[0m \u001b[1;32mas\u001b[0m \u001b[0mpd\u001b[0m\u001b[1;33m\u001b[0m\u001b[1;33m\u001b[0m\u001b[0m\n\u001b[1;32m----> 3\u001b[1;33m \u001b[1;32mfrom\u001b[0m \u001b[0mscipy\u001b[0m\u001b[1;33m.\u001b[0m\u001b[0mstats\u001b[0m \u001b[1;32mimport\u001b[0m \u001b[0mpearsonr\u001b[0m\u001b[1;33m\u001b[0m\u001b[1;33m\u001b[0m\u001b[0m\n\u001b[0m\u001b[0;32m      4\u001b[0m \u001b[1;33m\u001b[0m\u001b[0m\n\u001b[0;32m      5\u001b[0m \u001b[1;32mdef\u001b[0m \u001b[0mcommon_elements\u001b[0m\u001b[1;33m(\u001b[0m\u001b[0ml\u001b[0m\u001b[1;33m)\u001b[0m\u001b[1;33m:\u001b[0m\u001b[1;33m\u001b[0m\u001b[1;33m\u001b[0m\u001b[0m\n",
      "\u001b[1;31mModuleNotFoundError\u001b[0m: No module named 'scipy'"
     ]
    }
   ],
   "source": [
    "from loading_data import data_preprocess\n",
    "from models import model_gene_based, wide_n_deep, ML_methods, deepAMR_run\n",
    "from feature_importance import base_approach, lime\n",
    "from data_analyzer import source_analysis\n",
    "from dataset_creator import gene_dataset_creator\n",
    "\n",
    "epochs = 200\n",
    "\n",
    "\n",
    "def train():\n",
    "    # deepAMR_run.main()\n",
    "    df_train, labels = data_preprocess.process(38, gene_dataset=True)\n",
    "    # gene_dataset_creator.main()\n",
    "    # df_train, labels = data_preprocess.process(38)\n",
    "    # source_analysis.main(df_train)\n",
    "    # df_train, labels = data_preprocess.process(38, shuffle_operon_group=True)\n",
    "    # ML_methods.model_run(df_train, labels)\n",
    "    # model_gene_based.run_model(df_train, labels, epochs)\n",
    "    # wide_n_deep.run_bayesian(df_train, labels)\n",
    "    # model_gene_based.run_bayesian(df_train, labels)\n",
    "    model_gene_based.run_bayesian_single(df_train, labels)\n",
    "    # model_gene_based.run_all(df_train, labels, epochs)\n",
    "    # model_gene_based.run_model_kfold(df_train,labels,epochs)\n",
    "\n",
    "\n",
    "    # base_approach.run_feature_importance(df_train, labels)\n",
    "    # base_approach.find_feature_importance(file_name='feature_importance/score_results/lime_all.csv', k=50)\n",
    "    # base_approach.find_feature_importance(file_name='feature_importance/score_results/feature_scores_lime_all_test.csv', k=100)\n",
    "    # base_approach.find_feature_importance(file_name='feature_importance/score_results/feature_scores_lime_test_200.csv', k=100)\n",
    "    # base_approach.find_feature_importance(file_name='feature_importance/score_results/feature_scores_lime_train.csv', k=100)\n",
    "    # lime.main_function(df_train, labels)\n",
    "\n",
    "\n",
    "def train_shuffle():\n",
    "    df_train, labels = data_preprocess.process(38, shuffle_index=True, index_file=0)\n",
    "    model_gene_based.run_model_kfold(df_train, labels, epochs, index=0)\n",
    "    df_train, labels = data_preprocess.process(38, shuffle_index=True, index_file=1)\n",
    "    model_gene_based.run_model_kfold(df_train, labels, epochs, index=1)\n",
    "    df_train, labels = data_preprocess.process(38, shuffle_index=True, index_file=2)\n",
    "    model_gene_based.run_model_kfold(df_train, labels, epochs, index=2)\n",
    "    df_train, labels = data_preprocess.process(38, shuffle_index=True, index_file=3)\n",
    "    model_gene_based.run_model_kfold(df_train, labels, epochs, index=3)\n",
    "\n",
    "\n",
    "if __name__ == '__main__':\n",
    "    train()\n",
    "    # train_shuffle()\n"
   ]
  }
 ],
 "metadata": {
  "kernelspec": {
   "display_name": "Python 3",
   "language": "python",
   "name": "python3"
  },
  "language_info": {
   "codemirror_mode": {
    "name": "ipython",
    "version": 3
   },
   "file_extension": ".py",
   "mimetype": "text/x-python",
   "name": "python",
   "nbconvert_exporter": "python",
   "pygments_lexer": "ipython3",
   "version": "3.8.8"
  }
 },
 "nbformat": 4,
 "nbformat_minor": 5
}
